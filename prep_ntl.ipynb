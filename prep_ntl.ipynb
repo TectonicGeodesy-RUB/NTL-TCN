{
 "cells": [
  {
   "cell_type": "code",
   "execution_count": null,
   "id": "7409eb1426f0bc77",
   "metadata": {
    "collapsed": false
   },
   "outputs": [],
   "source": [
    "import pandas as pd\n",
    "from surfaceloading import agglomerate_stations"
   ]
  },
  {
   "cell_type": "code",
   "execution_count": null,
   "outputs": [],
   "source": [
    "## Concat station csv\n",
    "train_csv = pd.read_csv('../data/raws/stations_train_mod.csv')\n",
    "val_csv = pd.read_csv('../data/raws/stations_val_mod.csv')\n",
    "test_csv = pd.read_csv('../data/raws/stations_test_long.csv')"
   ],
   "metadata": {
    "collapsed": false
   },
   "id": "49cdc16e9448e18a"
  },
  {
   "cell_type": "code",
   "execution_count": null,
   "outputs": [],
   "source": [
    "comb_df = pd.concat([train_csv, val_csv, test_csv])\n",
    "comb_df"
   ],
   "metadata": {
    "collapsed": false
   },
   "id": "3bfd01f446a82107"
  },
  {
   "cell_type": "code",
   "execution_count": null,
   "outputs": [],
   "source": [
    "comb_df.to_csv('../data/ESMGFZ/concat_station_list_Jun2024.csv', index=False)"
   ],
   "metadata": {
    "collapsed": false
   },
   "id": "929dbc57bca34960"
  },
  {
   "cell_type": "code",
   "execution_count": null,
   "outputs": [],
   "source": [
    "## make batched station list\n",
    "agglomerate_stations(combined_stations='../data/ESMGFZ/concat_station_list_Jun2024.csv',\n",
    "                     batch_size=100,\n",
    "                     out_folder='/ESMGFZ/batch_stations_')"
   ],
   "metadata": {
    "collapsed": true
   },
   "id": "initial_id"
  }
 ],
 "metadata": {
  "kernelspec": {
   "display_name": "Python 3",
   "language": "python",
   "name": "python3"
  },
  "language_info": {
   "codemirror_mode": {
    "name": "ipython",
    "version": 2
   },
   "file_extension": ".py",
   "mimetype": "text/x-python",
   "name": "python",
   "nbconvert_exporter": "python",
   "pygments_lexer": "ipython2",
   "version": "2.7.6"
  }
 },
 "nbformat": 4,
 "nbformat_minor": 5
}
